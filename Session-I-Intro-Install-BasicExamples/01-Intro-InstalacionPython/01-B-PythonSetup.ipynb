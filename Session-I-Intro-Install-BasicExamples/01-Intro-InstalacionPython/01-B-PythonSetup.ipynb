{
 "cells": [
  {
   "cell_type": "markdown",
   "metadata": {
    "slideshow": {
     "slide_type": "-"
    }
   },
   "source": [
    "# Python Introduction"
   ]
  },
  {
   "cell_type": "markdown",
   "metadata": {
    "slideshow": {
     "slide_type": "slide"
    }
   },
   "source": [
    "![Python logo](https://www.python.org/static/community_logos/python-logo.png)\n",
    "Python is :\n",
    "\n",
    "* An interpreted and dynamic language\n",
    "* A high level language\n",
    "* A very popular language\n",
    "* Well suited for scientific computing "
   ]
  },
  {
   "cell_type": "markdown",
   "metadata": {
    "slideshow": {
     "slide_type": "subslide"
    }
   },
   "source": [
    "![Python trends](https://images.idgesg.net/images/article/2018/07/stack-overflow-coding-traffic-graph-100764025-large.jpg) "
   ]
  },
  {
   "cell_type": "markdown",
   "metadata": {
    "slideshow": {
     "slide_type": "slide"
    }
   },
   "source": [
    "Several ways to start using Python: \n",
    "- Command prompt: Directly going to the command prompt and typing python will bring the interpreter. \n",
    "- ipython \n",
    "- ipython or jupyter notebooks.\n",
    "\n",
    "Let's start. Please open a command prompt and write `python`. What do you get?\n"
   ]
  },
  {
   "cell_type": "markdown",
   "metadata": {
    "slideshow": {
     "slide_type": "slide"
    }
   },
   "source": [
    "# What can Python do?\n",
    "   - [Python Standard Library](https://docs.python.org/3/library/)\n",
    "   - [Electric Field Visualizations (Miguel Uribe)](https://www.glowscript.org/#/user/miguelangeluribe/folder/Public/program/ElectricFluxDefinition)\n",
    "   - [ipyvolume](https://ipyvolume.readthedocs.io/en/latest/)\n",
    "   - [Visualization](http://pyviz.org/)\n",
    "   - [Numerical Analysis](https://numfocus.org/sponsored-projects)\n",
    "   - [Games](https://www.pygame.org/news)\n",
    "   - https://github.com/vinta/awesome-python\n",
    "   - https://www.infoworld.com/article/3164409/application-development/hidden-gems-14-python-libraries-too-good-to-overlook.html#slide2\n",
    "   \n"
   ]
  },
  {
   "cell_type": "markdown",
   "metadata": {
    "slideshow": {
     "slide_type": "slide"
    }
   },
   "source": [
    "# Installing Python"
   ]
  },
  {
   "cell_type": "markdown",
   "metadata": {
    "slideshow": {
     "slide_type": "subslide"
    }
   },
   "source": [
    "The best way to install is ... to not install! \n",
    "\n",
    "# Executing python on a remote computer\n",
    "- [Google colab notebooks](https://colab.research.google.com/)\n",
    "- [Sage Math Cloud or Cell](http://www.sagemath.org/)\n",
    "- [Azure notebooks](https://notebooks.azure.com/Microsoft/projects)"
   ]
  },
  {
   "cell_type": "markdown",
   "metadata": {
    "slideshow": {
     "slide_type": "subslide"
    }
   },
   "source": [
    "---\n",
    "# Installing Python on a local computer \n",
    "- Anaconda: Solves the problem of package distribution. Please go to https://www.anaconda.com/download/ and download the installer: Python 3.7 . It would be faster if you download and install miniconda3 and then you install each needed package : https://conda.io/miniconda.html"
   ]
  },
  {
   "cell_type": "markdown",
   "metadata": {
    "slideshow": {
     "slide_type": "subslide"
    }
   },
   "source": [
    "Once installed, open anaconda (go to the programs menu and open the anaconda navigator). You will find several options. You can open there either a terminal, an editor, or a notebook. If you need to use the prompt, open anaconda prompt. You can, for instance, execute \n",
    "\n",
    "> jupyter notebook\n",
    "\n",
    "and then you will get a notebook to play with."
   ]
  },
  {
   "cell_type": "markdown",
   "metadata": {
    "slideshow": {
     "slide_type": "slide"
    }
   },
   "source": [
    "# How to execute/use Python code"
   ]
  },
  {
   "cell_type": "markdown",
   "metadata": {
    "slideshow": {
     "slide_type": "subslide"
    }
   },
   "source": [
    "## The Python interpreter\n",
    "The python interpreter is very primitive and basically interprets commands as you type them. For example, you can type commands like```print \"Hello World\" ``` and expect the output. To use it on windows, execute the command `anaconda prompt`. On Linux or Mac, just open a terminal and type `python`\n",
    "\n",
    "Since it is much more convenient to use the iPython super-enhanced interpreter, we will not focus here on the bare-bones python interpreter."
   ]
  },
  {
   "cell_type": "markdown",
   "metadata": {
    "slideshow": {
     "slide_type": "subslide"
    }
   },
   "source": [
    "## iPython\n",
    "iPython is, currently, the standard interactive interpreter. It has many advantages over the original python interpreter, like autocopletion of variables, tight integration with the system commands, history, easy documentation access, etc. \n",
    "\n",
    "**Exercise:** Please open an ipython console, by either going to the appropriate part on the Spyder IDE, or by open ipython through the Anaconda launcher. Type some commands there. \n"
   ]
  },
  {
   "cell_type": "markdown",
   "metadata": {
    "slideshow": {
     "slide_type": "subslide"
    }
   },
   "source": [
    "## Python scripts\n",
    "In general, interactive sessions are designed for fast testing and propotyping. But, if you want to store a group of commands for later use (a program), then you should save it on Python file, whose termination is ```.py```. \n",
    "\n",
    "**Exercise:** On the Spyder editor, type some commands and save the file with the appropriate extension. Then re-open it and run it. You can also load/run the file directly from ipython. You need to use the magic words ```%load``` or ```%run``` . Check the docs and do it. "
   ]
  },
  {
   "cell_type": "markdown",
   "metadata": {
    "slideshow": {
     "slide_type": "subslide"
    }
   },
   "source": [
    "## iPython/Jupyter notebook\n",
    "The ipython/jupyter notebook is a very convinient way to store ipython commands, together with notes, figures, and results. Currently, you are looking at the result obtained from an ipython notebook. This is very useful for logs, instructions, manuals, and interactive programming. An ipython notebook is stored in ```json``` format, which allows to include not only instructions but also command results and even figures. To execute a given cell, you should use the combination shift+enter.   \n"
   ]
  },
  {
   "cell_type": "markdown",
   "metadata": {
    "slideshow": {
     "slide_type": "fragment"
    }
   },
   "source": [
    "**Exercise:** Open an ipython notebook by using the anaconda launcher, and write some commands and some instructions. Save it. Re-open it."
   ]
  },
  {
   "cell_type": "markdown",
   "metadata": {
    "slideshow": {
     "slide_type": "subslide"
    }
   },
   "source": [
    "### Interactivity on the notebook\n",
    "https://ipywidgets.readthedocs.io/en/stable/examples/Using%20Interact.html"
   ]
  },
  {
   "cell_type": "code",
   "execution_count": 3,
   "metadata": {
    "slideshow": {
     "slide_type": "subslide"
    }
   },
   "outputs": [
    {
     "data": {
      "application/vnd.jupyter.widget-view+json": {
       "model_id": "278049fe06f54fc5b912d66a13b3d555",
       "version_major": 2,
       "version_minor": 0
      },
      "text/plain": [
       "interactive(children=(IntSlider(value=20, description='x', max=60, min=-20), Output()), _dom_classes=('widget-…"
      ]
     },
     "metadata": {},
     "output_type": "display_data"
    },
    {
     "data": {
      "text/plain": [
       "<function __main__.my_function(x)>"
      ]
     },
     "execution_count": 3,
     "metadata": {},
     "output_type": "execute_result"
    }
   ],
   "source": [
    "# Interactive widgets\n",
    "from ipywidgets import interact\n",
    "\n",
    "def my_function(x):\n",
    "    return x\n",
    "\n",
    "# create a slider\n",
    "interact(my_function, x=20)"
   ]
  },
  {
   "cell_type": "code",
   "execution_count": 4,
   "metadata": {
    "slideshow": {
     "slide_type": "subslide"
    }
   },
   "outputs": [
    {
     "data": {
      "application/vnd.jupyter.widget-view+json": {
       "model_id": "b23088405df5417dbeebfdff6a53127a",
       "version_major": 2,
       "version_minor": 0
      },
      "text/plain": [
       "interactive(children=(FloatSlider(value=0.0, description='m', max=2.0, min=-2.0), FloatSlider(value=0.0, descr…"
      ]
     },
     "metadata": {},
     "output_type": "display_data"
    }
   ],
   "source": [
    "%matplotlib inline\n",
    "from ipywidgets import interactive\n",
    "import matplotlib.pyplot as plt\n",
    "import numpy as np\n",
    "\n",
    "def f(m, b):\n",
    "    plt.figure(2)\n",
    "    x = np.linspace(-10, 10, num=1000)\n",
    "    plt.plot(x, m * x + b)\n",
    "    plt.ylim(-5, 5)\n",
    "    plt.show()\n",
    "\n",
    "interactive_plot = interactive(f, m=(-2.0, 2.0), b=(-3, 3, 0.5))\n",
    "output = interactive_plot.children[-1]\n",
    "output.layout.height = '450px'\n",
    "interactive_plot\n",
    "\n"
   ]
  },
  {
   "cell_type": "markdown",
   "metadata": {
    "slideshow": {
     "slide_type": "subslide"
    }
   },
   "source": [
    "## IDE: Spyder\n",
    "You have already used the IDE Spyder. This is an integrated develompment environment which allows editing, running, debugging, etc. of simple and complex (projects) python files. We will use only the very basic but you should get familiar with Spyder to exploit it better.\n",
    "\n",
    "There are other multiplatform solutions, like Canopy (free for academics) or Python(X, Y). Look at them on google."
   ]
  },
  {
   "cell_type": "markdown",
   "metadata": {
    "slideshow": {
     "slide_type": "slide"
    }
   },
   "source": [
    "## Some command examples inside a notebook\n",
    "\n",
    "You can also try them on ipython."
   ]
  },
  {
   "cell_type": "code",
   "execution_count": 4,
   "metadata": {
    "slideshow": {
     "slide_type": "subslide"
    }
   },
   "outputs": [
    {
     "name": "stdout",
     "output_type": "stream",
     "text": [
      "Hello World, from python!\n"
     ]
    }
   ],
   "source": [
    "print(\"Hello World, from python!\")"
   ]
  },
  {
   "cell_type": "code",
   "execution_count": 2,
   "metadata": {
    "slideshow": {
     "slide_type": "subslide"
    }
   },
   "outputs": [
    {
     "name": "stdout",
     "output_type": "stream",
     "text": [
      "Hello World, from python!\n"
     ]
    }
   ],
   "source": [
    "print (\"Hello World, from python!\")"
   ]
  },
  {
   "cell_type": "markdown",
   "metadata": {
    "slideshow": {
     "slide_type": "subslide"
    }
   },
   "source": [
    "What is `print` ? It allows to print! of course, printing can be more complex. \n",
    "\n",
    "For single or very simple instructions, the python shell interpreter is enough. But, for more complex instructions and or scripts, it is necessary to use a more advanced interpreter with more power. Let's try the ipyhton interpreter! You can use either the command `ipython` or the intepreter right below the editor in canopy, spyder (anaconda), or your prefered IDE.\n",
    "\n",
    "The ipython interpreter is a much more advanced interpreter which allows to get better error reporting, interactive help, magic commands, fast history access, and muhco more. \n",
    "\n",
    "Please try writing a single `?`. What do you get? (you can move with the arrows and exit by pressing `q`)"
   ]
  },
  {
   "cell_type": "code",
   "execution_count": 6,
   "metadata": {
    "slideshow": {
     "slide_type": "subslide"
    }
   },
   "outputs": [],
   "source": [
    "np.si"
   ]
  },
  {
   "cell_type": "markdown",
   "metadata": {
    "slideshow": {
     "slide_type": "subslide"
    }
   },
   "source": [
    "Summarizing, there are several ways to use python:\n",
    "\n",
    "* Using the interpreter, `python`\n",
    "* Using the more modern interpreter, `ipython` (always use this by default)\n",
    "* Using an ipython notebook : either by launching it as `ipython notebook` which will open your browser at `127.0.0.1:8888`, or by using the editor in any ide (like Canopy, Anaconda-sPyder, etc). Notebooks are saved with the extension `.ipynb`\n",
    "* Writing an script, whose extension should be `.py`\n",
    "\n",
    "In the following, we will use a mix of all of them.\n",
    "\n",
    "Before leaving, let's use another example: How to read from standard input"
   ]
  },
  {
   "cell_type": "code",
   "execution_count": 1,
   "metadata": {
    "ExecuteTime": {
     "end_time": "2018-08-07T15:16:00.770459Z",
     "start_time": "2018-08-07T15:15:59.087501Z"
    },
    "slideshow": {
     "slide_type": "subslide"
    }
   },
   "outputs": [
    {
     "name": "stdout",
     "output_type": "stream",
     "text": [
      "Hola\n",
      "Dime tu nombre:  sadsa\n",
      "Hola sadsa\n"
     ]
    }
   ],
   "source": [
    "print(\"Hola\")\n",
    "name = input(\"Dime tu nombre:  \")\n",
    "print(\"Hola\", name)"
   ]
  },
  {
   "cell_type": "markdown",
   "metadata": {
    "slideshow": {
     "slide_type": "slide"
    }
   },
   "source": [
    "# How to install packages\n",
    "\n",
    "Please go the start menu and open the anaconda prompt. There you con use either the command `conda` or `pip` to install needed packages. For instance, let's install `scipy`, which is the base framework used in scientific computation. Open the anaconda prompt and write the following:\n",
    "```python\n",
    "conda install -c anaconda scipy\n",
    "```\n",
    "This will install the `scipy` package and all its dependencies on the root environment. \n",
    "\n",
    "## Note: Installing on a virtual environment - Fenics\n",
    "Sometimes it is much better to install packages on an isolated enviroment to avoid collisions with other packages or versions. For instance, to install `fenics` (which is used to solve partial differential equations, see https://fenicsproject.org/), you can do the following on the anaconda prompt\n",
    "```python/\n",
    "# this creates an enviroment called fenicsproject\n",
    "conda create -n fenicsproject -c conda-forge fenics\n",
    "# this activates the environment\n",
    "source activate fenicsproject \n",
    "```"
   ]
  },
  {
   "cell_type": "markdown",
   "metadata": {
    "slideshow": {
     "slide_type": "slide"
    }
   },
   "source": [
    "# Where to learn\n",
    "\n",
    "- https://hackr.io/tutorials/learn-python\n",
    "- https://hackernoon.com/top-5-courses-to-learn-python-in-2018-best-of-lot-26644a99e7ec\n",
    "- https://swcarpentry.github.io/python-novice-inflammation/\n",
    "- [Python Tutor](http://pythontutor.com/)"
   ]
  },
  {
   "cell_type": "markdown",
   "metadata": {
    "slideshow": {
     "slide_type": "notes"
    }
   },
   "source": [
    "# Presentation Resources\n",
    "- https://dzone.com/articles/creating-presentations-with-jupyter-notebook\n",
    "- https://medium.com/learning-machine-learning/present-your-data-science-projects-with-jupyter-slides-75f20735eb0f\n"
   ]
  },
  {
   "cell_type": "code",
   "execution_count": null,
   "metadata": {},
   "outputs": [],
   "source": []
  }
 ],
 "metadata": {
  "celltoolbar": "Slideshow",
  "kernelspec": {
   "display_name": "Python 3",
   "language": "python",
   "name": "python3"
  },
  "language_info": {
   "codemirror_mode": {
    "name": "ipython",
    "version": 3
   },
   "file_extension": ".py",
   "mimetype": "text/x-python",
   "name": "python",
   "nbconvert_exporter": "python",
   "pygments_lexer": "ipython3",
   "version": "3.6.8"
  },
  "latex_envs": {
   "LaTeX_envs_menu_present": true,
   "autoclose": true,
   "autocomplete": true,
   "bibliofile": "biblio.bib",
   "cite_by": "apalike",
   "current_citInitial": 1,
   "eqLabelWithNumbers": true,
   "eqNumInitial": 1,
   "hotkeys": {
    "equation": "Ctrl-E",
    "itemize": "Ctrl-I"
   },
   "labels_anchors": false,
   "latex_user_defs": false,
   "report_style_numbering": false,
   "user_envs_cfg": false
  },
  "toc": {
   "base_numbering": 1,
   "nav_menu": {},
   "number_sections": true,
   "sideBar": true,
   "skip_h1_title": false,
   "title_cell": "Table of Contents",
   "title_sidebar": "Contents",
   "toc_cell": false,
   "toc_position": {
    "height": "calc(100% - 180px)",
    "left": "10px",
    "top": "150px",
    "width": "383px"
   },
   "toc_section_display": true,
   "toc_window_display": true
  }
 },
 "nbformat": 4,
 "nbformat_minor": 1
}
